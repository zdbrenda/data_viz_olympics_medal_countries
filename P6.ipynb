{
 "cells": [
  {
   "cell_type": "code",
   "execution_count": 1,
   "metadata": {
    "collapsed": false
   },
   "outputs": [],
   "source": [
    "import pandas as pd\n",
    "medals=pd.read_csv(\"all_medalists.csv\")\n",
    "country_code=pd.read_csv(\"country_code.csv\")"
   ]
  },
  {
   "cell_type": "code",
   "execution_count": 2,
   "metadata": {
    "collapsed": false
   },
   "outputs": [
    {
     "name": "stdout",
     "output_type": "stream",
     "text": [
      "          City  Edition      Sport       Discipline  \\\n",
      "0       Athens     1896   Aquatics         Swimming   \n",
      "1       Athens     1896   Aquatics         Swimming   \n",
      "2       Athens     1896   Aquatics         Swimming   \n",
      "3       Athens     1896   Aquatics         Swimming   \n",
      "4       Athens     1896   Aquatics         Swimming   \n",
      "5       Athens     1896   Aquatics         Swimming   \n",
      "6       Athens     1896   Aquatics         Swimming   \n",
      "7       Athens     1896   Aquatics         Swimming   \n",
      "8       Athens     1896   Aquatics         Swimming   \n",
      "9       Athens     1896   Aquatics         Swimming   \n",
      "10      Athens     1896   Aquatics         Swimming   \n",
      "11      Athens     1896  Athletics        Athletics   \n",
      "12      Athens     1896  Athletics        Athletics   \n",
      "13      Athens     1896  Athletics        Athletics   \n",
      "14      Athens     1896  Athletics        Athletics   \n",
      "15      Athens     1896  Athletics        Athletics   \n",
      "16      Athens     1896  Athletics        Athletics   \n",
      "17      Athens     1896  Athletics        Athletics   \n",
      "18      Athens     1896  Athletics        Athletics   \n",
      "19      Athens     1896  Athletics        Athletics   \n",
      "20      Athens     1896  Athletics        Athletics   \n",
      "21      Athens     1896  Athletics        Athletics   \n",
      "22      Athens     1896  Athletics        Athletics   \n",
      "23      Athens     1896  Athletics        Athletics   \n",
      "24      Athens     1896  Athletics        Athletics   \n",
      "25      Athens     1896  Athletics        Athletics   \n",
      "26      Athens     1896  Athletics        Athletics   \n",
      "27      Athens     1896  Athletics        Athletics   \n",
      "28      Athens     1896  Athletics        Athletics   \n",
      "29      Athens     1896  Athletics        Athletics   \n",
      "...        ...      ...        ...              ...   \n",
      "29186  Beijing     2008  Wrestling  Wrestling Free.   \n",
      "29187  Beijing     2008  Wrestling  Wrestling Free.   \n",
      "29188  Beijing     2008  Wrestling  Wrestling Free.   \n",
      "29189  Beijing     2008  Wrestling  Wrestling Gre-R   \n",
      "29190  Beijing     2008  Wrestling  Wrestling Gre-R   \n",
      "29191  Beijing     2008  Wrestling  Wrestling Gre-R   \n",
      "29192  Beijing     2008  Wrestling  Wrestling Gre-R   \n",
      "29193  Beijing     2008  Wrestling  Wrestling Gre-R   \n",
      "29194  Beijing     2008  Wrestling  Wrestling Gre-R   \n",
      "29195  Beijing     2008  Wrestling  Wrestling Gre-R   \n",
      "29196  Beijing     2008  Wrestling  Wrestling Gre-R   \n",
      "29197  Beijing     2008  Wrestling  Wrestling Gre-R   \n",
      "29198  Beijing     2008  Wrestling  Wrestling Gre-R   \n",
      "29199  Beijing     2008  Wrestling  Wrestling Gre-R   \n",
      "29200  Beijing     2008  Wrestling  Wrestling Gre-R   \n",
      "29201  Beijing     2008  Wrestling  Wrestling Gre-R   \n",
      "29202  Beijing     2008  Wrestling  Wrestling Gre-R   \n",
      "29203  Beijing     2008  Wrestling  Wrestling Gre-R   \n",
      "29204  Beijing     2008  Wrestling  Wrestling Gre-R   \n",
      "29205  Beijing     2008  Wrestling  Wrestling Gre-R   \n",
      "29206  Beijing     2008  Wrestling  Wrestling Gre-R   \n",
      "29207  Beijing     2008  Wrestling  Wrestling Gre-R   \n",
      "29208  Beijing     2008  Wrestling  Wrestling Gre-R   \n",
      "29209  Beijing     2008  Wrestling  Wrestling Gre-R   \n",
      "29210  Beijing     2008  Wrestling  Wrestling Gre-R   \n",
      "29211  Beijing     2008  Wrestling  Wrestling Gre-R   \n",
      "29212  Beijing     2008  Wrestling  Wrestling Gre-R   \n",
      "29213  Beijing     2008  Wrestling  Wrestling Gre-R   \n",
      "29214  Beijing     2008  Wrestling  Wrestling Gre-R   \n",
      "29215  Beijing     2008  Wrestling  Wrestling Gre-R   \n",
      "\n",
      "                           Athlete  NOC Gender                       Event  \\\n",
      "0                    HAJOS, Alfred  HUN    Men              100m freestyle   \n",
      "1                 HERSCHMANN, Otto  AUT    Men              100m freestyle   \n",
      "2                DRIVAS, Dimitrios  GRE    Men  100m freestyle for sailors   \n",
      "3               MALOKINIS, Ioannis  GRE    Men  100m freestyle for sailors   \n",
      "4               CHASAPIS, Spiridon  GRE    Men  100m freestyle for sailors   \n",
      "5            CHOROPHAS, Efstathios  GRE    Men             1200m freestyle   \n",
      "6                    HAJOS, Alfred  HUN    Men             1200m freestyle   \n",
      "7                 ANDREOU, Joannis  GRE    Men             1200m freestyle   \n",
      "8            CHOROPHAS, Efstathios  GRE    Men              400m freestyle   \n",
      "9                    NEUMANN, Paul  AUT    Men              400m freestyle   \n",
      "10               PEPANOS, Antonios  GRE    Men              400m freestyle   \n",
      "11                   LANE, Francis  USA    Men                        100m   \n",
      "12                SZOKOLYI, Alajos  HUN    Men                        100m   \n",
      "13                   BURKE, Thomas  USA    Men                        100m   \n",
      "14                  HOFMANN, Fritz  GER    Men                        100m   \n",
      "15                  CURTIS, Thomas  USA    Men                110m hurdles   \n",
      "16              GOULDING, Grantley  GBR    Men                110m hurdles   \n",
      "17               LERMUSIAUX, Albin  FRA    Men                       1500m   \n",
      "18                    FLACK, Edwin  AUS    Men                       1500m   \n",
      "19                   BLAKE, Arthur  USA    Men                       1500m   \n",
      "20                 GMELIN, Charles  GBR    Men                        400m   \n",
      "21                   BURKE, Thomas  USA    Men                        400m   \n",
      "22                JAMISON, Herbert  USA    Men                        400m   \n",
      "23              GOLEMIS, Dimitrios  GRE    Men                        800m   \n",
      "24                    FLACK, Edwin  AUS    Men                        800m   \n",
      "25                    DANI, Nandor  HUN    Men                        800m   \n",
      "26                VERSIS, Sotirios  GRE    Men                discus throw   \n",
      "27                 GARRETT, Robert  USA    Men                discus throw   \n",
      "28     PARASKEVOPOULOS, Panagiotis  GRE    Men                discus throw   \n",
      "29                   CLARK, Ellery  USA    Men                   high jump   \n",
      "...                            ...  ...    ...                         ...   \n",
      "29186             MUTALIMOV, Marid  KAZ    Men                  96 - 120kg   \n",
      "29187              TAYMAZOV, Artur  UZB    Men                  96 - 120kg   \n",
      "29188          AKHMEDOV, Bakhtiyar  RUS    Men                  96 - 120kg   \n",
      "29189                AMOYAN, Roman  ARM    Men                      - 55kg   \n",
      "29190               PARK, Eun-Chul  KOR    Men                      - 55kg   \n",
      "29191               MANKIEV, Nazyr  RUS    Men                      - 55kg   \n",
      "29192            BAYRAMOV, Rovshan  AZE    Men                      - 55kg   \n",
      "29193        TENGIZBAYEV, Nurbakyt  KAZ    Men                   55 - 60kg   \n",
      "29194           TIUMENBAEV, Ruslan  KGZ    Men                   55 - 60kg   \n",
      "29195           ALBIEV, Islam-Beka  RUS    Men                   55 - 60kg   \n",
      "29196             RAHIMOV, Vitaliy  AZE    Men                   55 - 60kg   \n",
      "29197           SIAMIONAU, Mikhail  BLR    Men                   60 - 66kg   \n",
      "29198             VARDANYAN, Armen  UKR    Men                   60 - 66kg   \n",
      "29199               GUENOT, Steeve  FRA    Men                   60 - 66kg   \n",
      "29200           BEGALIEV, Kanatbek  KGZ    Men                   60 - 66kg   \n",
      "29201           GUENOT, Christophe  FRA    Men                   66 - 74kg   \n",
      "29202              YANAKIEV, Yavor  BUL    Men                   66 - 74kg   \n",
      "29203          KVIRKELIA, Manuchar  GEO    Men                   66 - 74kg   \n",
      "29204             CHANG, Yongxiang  CHN    Men                   66 - 74kg   \n",
      "29205                AVLUCA, Nazmi  TUR    Men                   74 - 84kg   \n",
      "29206             MINGUZZI, Andrea  ITA    Men                   74 - 84kg   \n",
      "29207                FODOR, Zoltan  HUN    Men                   74 - 84kg   \n",
      "29208              MAMBETOV, Asset  KAZ    Men                   84 - 96kg   \n",
      "29209                WHEELER, Adam  USA    Men                   84 - 96kg   \n",
      "29210           KHUSHTOV, Aslanbek  RUS    Men                   84 - 96kg   \n",
      "29211               ENGLICH, Mirko  GER    Men                   84 - 96kg   \n",
      "29212         MIZGAITIS, Mindaugas  LTU    Men                  96 - 120kg   \n",
      "29213              PATRIKEEV, Yuri  ARM    Men                  96 - 120kg   \n",
      "29214                LOPEZ, Mijain  CUB    Men                  96 - 120kg   \n",
      "29215               BAROEV, Khasan  RUS    Men                  96 - 120kg   \n",
      "\n",
      "      Event_gender   Medal  \n",
      "0                M    Gold  \n",
      "1                M  Silver  \n",
      "2                M  Bronze  \n",
      "3                M    Gold  \n",
      "4                M  Silver  \n",
      "5                M  Bronze  \n",
      "6                M    Gold  \n",
      "7                M  Silver  \n",
      "8                M  Bronze  \n",
      "9                M    Gold  \n",
      "10               M  Silver  \n",
      "11               M  Bronze  \n",
      "12               M  Bronze  \n",
      "13               M    Gold  \n",
      "14               M  Silver  \n",
      "15               M    Gold  \n",
      "16               M  Silver  \n",
      "17               M  Bronze  \n",
      "18               M    Gold  \n",
      "19               M  Silver  \n",
      "20               M  Bronze  \n",
      "21               M    Gold  \n",
      "22               M  Silver  \n",
      "23               M  Bronze  \n",
      "24               M    Gold  \n",
      "25               M  Silver  \n",
      "26               M  Bronze  \n",
      "27               M    Gold  \n",
      "28               M  Silver  \n",
      "29               M    Gold  \n",
      "...            ...     ...  \n",
      "29186            M  Bronze  \n",
      "29187            M    Gold  \n",
      "29188            M  Silver  \n",
      "29189            M  Bronze  \n",
      "29190            M  Bronze  \n",
      "29191            M    Gold  \n",
      "29192            M  Silver  \n",
      "29193            M  Bronze  \n",
      "29194            M  Bronze  \n",
      "29195            M    Gold  \n",
      "29196            M  Silver  \n",
      "29197            M  Bronze  \n",
      "29198            M  Bronze  \n",
      "29199            M    Gold  \n",
      "29200            M  Silver  \n",
      "29201            M  Bronze  \n",
      "29202            M  Bronze  \n",
      "29203            M    Gold  \n",
      "29204            M  Silver  \n",
      "29205            M  Bronze  \n",
      "29206            M    Gold  \n",
      "29207            M  Silver  \n",
      "29208            M  Bronze  \n",
      "29209            M  Bronze  \n",
      "29210            M    Gold  \n",
      "29211            M  Silver  \n",
      "29212            M  Bronze  \n",
      "29213            M  Bronze  \n",
      "29214            M    Gold  \n",
      "29215            M  Silver  \n",
      "\n",
      "[29216 rows x 10 columns]\n"
     ]
    }
   ],
   "source": [
    "print medals"
   ]
  },
  {
   "cell_type": "code",
   "execution_count": 3,
   "metadata": {
    "collapsed": false
   },
   "outputs": [
    {
     "name": "stdout",
     "output_type": "stream",
     "text": [
      "                    Country code ISO code               Country.1\n",
      "0               Afghanistan  AFG       AF             Afghanistan\n",
      "1                   Albania  ALB       AL                 Albania\n",
      "2                   Algeria  ALG       DZ                 Algeria\n",
      "3           American Samoa*  ASA       AS         American Samoa*\n",
      "4                   Andorra  AND       AD                 Andorra\n",
      "5                    Angola  ANG       AO                  Angola\n",
      "6       Antigua and Barbuda  ANT       AG     Antigua and Barbuda\n",
      "7                 Argentina  ARG       AR               Argentina\n",
      "8                   Armenia  ARM       AM                 Armenia\n",
      "9                    Aruba*  ARU       AW                  Aruba*\n",
      "10                Australia  AUS       AU               Australia\n",
      "11                  Austria  AUT       AT                 Austria\n",
      "12               Azerbaijan  AZE       AZ              Azerbaijan\n",
      "13                  Bahamas  BAH       BS                 Bahamas\n",
      "14                  Bahrain  BRN       BH                 Bahrain\n",
      "15               Bangladesh  BAN       BD              Bangladesh\n",
      "16                 Barbados  BAR       BB                Barbados\n",
      "17                  Belarus  BLR       BY                 Belarus\n",
      "18                  Belgium  BEL       BE                 Belgium\n",
      "19                   Belize  BIZ       BZ                  Belize\n",
      "20                 Bermuda*  BER       BM                Bermuda*\n",
      "21                    Benin  BEN       BJ                   Benin\n",
      "22                   Bhutan  BHU       BT                  Bhutan\n",
      "23                  Bolivia  BOL       BO                 Bolivia\n",
      "24   Bosnia and Herzegovina  BIH       BA  Bosnia and Herzegovina\n",
      "25                 Botswana  BOT       BW                Botswana\n",
      "26                   Brazil  BRA       BR                  Brazil\n",
      "27   British Virgin Islands  IVB       VG  British Virgin Islands\n",
      "28                   Brunei  BRU       BN                  Brunei\n",
      "29                 Bulgaria  BUL       BG                Bulgaria\n",
      "..                      ...  ...      ...                     ...\n",
      "171                   Sudan  SUD       SD                   Sudan\n",
      "172                Suriname  SUR       SR                Suriname\n",
      "173               Swaziland  SWZ       SZ               Swaziland\n",
      "174                  Sweden  SWE       SE                  Sweden\n",
      "175             Switzerland  SUI       CH             Switzerland\n",
      "176                   Syria  SYR       SY                   Syria\n",
      "177                  Taiwan  TPE       TW                  Taiwan\n",
      "178              Tajikistan  TJK       TJ              Tajikistan\n",
      "179                Tanzania  TAN       TZ                Tanzania\n",
      "180                Thailand  THA       TH                Thailand\n",
      "181                    Togo  TOG       TG                    Togo\n",
      "182                   Tonga  TGA       TO                   Tonga\n",
      "183     Trinidad and Tobago  TRI       TT     Trinidad and Tobago\n",
      "184                 Tunisia  TUN       TN                 Tunisia\n",
      "185                  Turkey  TUR       TR                  Turkey\n",
      "186            Turkmenistan  TKM       TM            Turkmenistan\n",
      "187                  Uganda  UGA       UG                  Uganda\n",
      "188                 Ukraine  UKR       UA                 Ukraine\n",
      "189    United Arab Emirates  UAE       AE    United Arab Emirates\n",
      "190          United Kingdom  GBR       GB          United Kingdom\n",
      "191           United States  USA       US           United States\n",
      "192                 Uruguay  URU       UY                 Uruguay\n",
      "193              Uzbekistan  UZB       UZ              Uzbekistan\n",
      "194                 Vanuatu  VAN       VU                 Vanuatu\n",
      "195               Venezuela  VEN       VE               Venezuela\n",
      "196                 Vietnam  VIE       VN                 Vietnam\n",
      "197         Virgin Islands*  ISV       VI         Virgin Islands*\n",
      "198                   Yemen  YEM       YE                   Yemen\n",
      "199                  Zambia  ZAM       ZM                  Zambia\n",
      "200                Zimbabwe  ZIM       ZW                Zimbabwe\n",
      "\n",
      "[201 rows x 4 columns]\n"
     ]
    }
   ],
   "source": [
    "print country_code"
   ]
  },
  {
   "cell_type": "code",
   "execution_count": 4,
   "metadata": {
    "collapsed": true
   },
   "outputs": [],
   "source": [
    "medals_by_country=medals.groupby([\"NOC\"]).count()[\"Medal\"]"
   ]
  },
  {
   "cell_type": "code",
   "execution_count": 5,
   "metadata": {
    "collapsed": false,
    "scrolled": true
   },
   "outputs": [
    {
     "name": "stdout",
     "output_type": "stream",
     "text": [
      "NOC\n",
      "AFG       1\n",
      "AHO       1\n",
      "ALG      14\n",
      "ANZ      29\n",
      "ARG     239\n",
      "ARM       9\n",
      "AUS    1075\n",
      "AUT     146\n",
      "AZE      16\n",
      "BAH      23\n",
      "BAR       1\n",
      "BDI       1\n",
      "BEL     408\n",
      "BER       1\n",
      "BLR      92\n",
      "BOH       7\n",
      "BRA     372\n",
      "BUL     331\n",
      "BWI       5\n",
      "CAN     592\n",
      "CHI      33\n",
      "CHN     679\n",
      "CIV       1\n",
      "CMR      22\n",
      "COL      11\n",
      "CRC       4\n",
      "CRO      79\n",
      "CUB     395\n",
      "CZE      41\n",
      "DEN     491\n",
      "       ... \n",
      "SRI       2\n",
      "SUD       1\n",
      "SUI     376\n",
      "SUR       2\n",
      "SVK      29\n",
      "SWE    1021\n",
      "SYR       3\n",
      "TAN       2\n",
      "TCH     329\n",
      "TGA       1\n",
      "THA      21\n",
      "TJK       2\n",
      "TOG       1\n",
      "TPE      42\n",
      "TRI      20\n",
      "TUN       7\n",
      "TUR      82\n",
      "UAE       1\n",
      "UGA       6\n",
      "UKR     148\n",
      "URS    2049\n",
      "URU      76\n",
      "USA    4335\n",
      "UZB      17\n",
      "VEN      11\n",
      "VIE       2\n",
      "YUG     435\n",
      "ZAM       2\n",
      "ZIM      23\n",
      "ZZX      48\n",
      "Name: Medal, dtype: int64\n"
     ]
    }
   ],
   "source": [
    "print medals_by_country"
   ]
  },
  {
   "cell_type": "code",
   "execution_count": 6,
   "metadata": {
    "collapsed": false
   },
   "outputs": [
    {
     "name": "stdout",
     "output_type": "stream",
     "text": [
      "1\n"
     ]
    }
   ],
   "source": [
    "print medals_by_country.loc[\"AFG\"]"
   ]
  },
  {
   "cell_type": "code",
   "execution_count": 7,
   "metadata": {
    "collapsed": false
   },
   "outputs": [],
   "source": [
    "medal_country=medals_by_country.index"
   ]
  },
  {
   "cell_type": "code",
   "execution_count": 8,
   "metadata": {
    "collapsed": false
   },
   "outputs": [
    {
     "name": "stdout",
     "output_type": "stream",
     "text": [
      "138\n"
     ]
    }
   ],
   "source": [
    "print len(medal_country)"
   ]
  },
  {
   "cell_type": "code",
   "execution_count": 9,
   "metadata": {
    "collapsed": false
   },
   "outputs": [
    {
     "name": "stdout",
     "output_type": "stream",
     "text": [
      "201\n"
     ]
    }
   ],
   "source": [
    "print len(country_code)\n"
   ]
  },
  {
   "cell_type": "code",
   "execution_count": 10,
   "metadata": {
    "collapsed": false,
    "scrolled": false
   },
   "outputs": [
    {
     "name": "stdout",
     "output_type": "stream",
     "text": [
      "177\n"
     ]
    }
   ],
   "source": [
    "import json\n",
    "import pprint\n",
    "with open('world_countries.json') as json_data:\n",
    "    d = json.load(json_data)\n",
    "\n",
    "    \n",
    "json_countries=[]\n",
    "json_ids=[]\n",
    "json_dict=dict()\n",
    "json_dict2=dict()\n",
    "features=d['features']\n",
    "print len(features)\n",
    "\n",
    "for i in range(len(features)):\n",
    "    \n",
    "    name=features[i]['properties']['name']\n",
    "    id=features[i]['id']\n",
    "    json_countries.append(name)\n",
    "    json_ids.append(id)\n",
    "    json_dict[id]=name\n",
    "    json_dict2[name]=id\n",
    "                \n",
    "                \n",
    "            \n",
    "\n",
    "        \n",
    "        "
   ]
  },
  {
   "cell_type": "code",
   "execution_count": 11,
   "metadata": {
    "collapsed": false
   },
   "outputs": [
    {
     "name": "stdout",
     "output_type": "stream",
     "text": [
      "[u'Afghanistan', u'Angola', u'Albania', u'United Arab Emirates', u'Argentina', u'Armenia', u'Antarctica', u'French Southern and Antarctic Lands', u'Australia', u'Austria', u'Azerbaijan', u'Burundi', u'Belgium', u'Benin', u'Burkina Faso', u'Bangladesh', u'Bulgaria', u'The Bahamas', u'Bosnia and Herzegovina', u'Belarus', u'Belize', u'Bolivia', u'Brazil', u'Brunei', u'Bhutan', u'Botswana', u'Central African Republic', u'Canada', u'Switzerland', u'Chile', u'China', u'Ivory Coast', u'Cameroon', u'Democratic Republic of the Congo', u'Republic of the Congo', u'Colombia', u'Costa Rica', u'Cuba', u'Northern Cyprus', u'Cyprus', u'Czech Republic', u'Germany', u'Djibouti', u'Denmark', u'Dominican Republic', u'Algeria', u'Ecuador', u'Egypt', u'Eritrea', u'Spain', u'Estonia', u'Ethiopia', u'Finland', u'Fiji', u'Falkland Islands', u'France', u'Gabon', u'England', u'Georgia', u'Ghana', u'Guinea', u'Gambia', u'Guinea Bissau', u'Equatorial Guinea', u'Greece', u'Greenland', u'Guatemala', u'Guyana', u'Honduras', u'Croatia', u'Haiti', u'Hungary', u'Indonesia', u'India', u'Ireland', u'Iran', u'Iraq', u'Iceland', u'Israel', u'Italy', u'Jamaica', u'Jordan', u'Japan', u'Kazakhstan', u'Kenya', u'Kyrgyzstan', u'Cambodia', u'South Korea', u'Kosovo', u'Kuwait', u'Laos', u'Lebanon', u'Liberia', u'Libya', u'Sri Lanka', u'Lesotho', u'Lithuania', u'Luxembourg', u'Latvia', u'Morocco', u'Moldova', u'Madagascar', u'Mexico', u'Macedonia', u'Mali', u'Myanmar', u'Montenegro', u'Mongolia', u'Mozambique', u'Mauritania', u'Malawi', u'Malaysia', u'Namibia', u'New Caledonia', u'Niger', u'Nigeria', u'Nicaragua', u'Netherlands', u'Norway', u'Nepal', u'New Zealand', u'Oman', u'Pakistan', u'Panama', u'Peru', u'Philippines', u'Papua New Guinea', u'Poland', u'Puerto Rico', u'North Korea', u'Portugal', u'Paraguay', u'Qatar', u'Romania', u'Russia', u'Rwanda', u'Western Sahara', u'Saudi Arabia', u'Sudan', u'South Sudan', u'Senegal', u'Solomon Islands', u'Sierra Leone', u'El Salvador', u'Somaliland', u'Somalia', u'Republic of Serbia', u'Suriname', u'Slovakia', u'Slovenia', u'Sweden', u'Swaziland', u'Syria', u'Chad', u'Togo', u'Thailand', u'Tajikistan', u'Turkmenistan', u'East Timor', u'Trinidad and Tobago', u'Tunisia', u'Turkey', u'Taiwan', u'United Republic of Tanzania', u'Uganda', u'Ukraine', u'Uruguay', u'USA', u'Uzbekistan', u'Venezuela', u'Vietnam', u'Vanuatu', u'West Bank', u'Yemen', u'South Africa', u'Zambia', u'Zimbabwe']\n"
     ]
    }
   ],
   "source": [
    "print json_countries"
   ]
  },
  {
   "cell_type": "code",
   "execution_count": 12,
   "metadata": {
    "collapsed": false
   },
   "outputs": [],
   "source": [
    "csv_countries=[]\n",
    "csv_codes=[]\n",
    "csv_dict=dict()\n",
    "csv_dict_new=dict()\n",
    "for i in country_code.values:\n",
    "    country=i[0].replace(\"*\",\"\")\n",
    "    code=i[1]\n",
    "    csv_countries.append(i[0].replace(\"*\",\"\"))\n",
    "    csv_codes.append(i[1])\n",
    "    csv_dict[country]=code\n",
    "    csv_dict_new[code]=country"
   ]
  },
  {
   "cell_type": "code",
   "execution_count": 13,
   "metadata": {
    "collapsed": false
   },
   "outputs": [
    {
     "name": "stdout",
     "output_type": "stream",
     "text": [
      "['Afghanistan', 'Albania', 'Algeria', 'American Samoa', 'Andorra', 'Angola', 'Antigua and Barbuda', 'Argentina', 'Armenia', 'Aruba', 'Australia', 'Austria', 'Azerbaijan', 'Bahamas', 'Bahrain', 'Bangladesh', 'Barbados', 'Belarus', 'Belgium', 'Belize', 'Bermuda', 'Benin', 'Bhutan', 'Bolivia', 'Bosnia and Herzegovina', 'Botswana', 'Brazil', 'British Virgin Islands', 'Brunei', 'Bulgaria', 'Burkina Faso', 'Burundi', 'Cambodia', 'Cameroon', 'Canada', 'Cape Verde', 'Cayman Islands', 'Central African Republic', 'Chad', 'Chile', 'China', 'Colombia', 'Comoros', 'Congo', 'Congo, Dem Rep', 'Cook Islands', 'Costa Rica', \"Cote d'Ivoire\", 'Croatia', 'Cuba', 'Cyprus', 'Czech Republic', 'Denmark', 'Djibouti', 'Dominica', 'Dominican Republic', 'East Timor (Timor-Leste)', 'Ecuador', 'Egypt', 'El Salvador', 'Equatorial Guinea', 'Eritrea', 'Estonia', 'Ethiopia', 'Fiji', 'Finland', 'France', 'Gabon', 'Gambia', 'Georgia', 'Germany', 'Ghana', 'Greece', 'Grenada', 'Guam', 'Guatemala', 'Guinea', 'Guinea-Bissau', 'Guyana', 'Haiti', 'Honduras', 'Hong Kong', 'Hungary', 'Iceland', 'India', 'Indonesia', 'Iran', 'Iraq', 'Ireland', 'Israel', 'Italy', 'Jamaica', 'Japan', 'Jordan', 'Kazakhstan', 'Kenya', 'Korea, North', 'Korea, South', 'Kuwait', 'Kyrgyzstan', 'Laos', 'Latvia', 'Lebanon', 'Lesotho', 'Liberia', 'Libya', 'Liechtenstein', 'Lithuania', 'Luxembourg', 'Macedonia', 'Madagascar', 'Malawi', 'Malaysia', 'Maldives', 'Mali', 'Malta', 'Mauritania', 'Mauritius', 'Mexico', 'Micronesia', 'Moldova', 'Monaco', 'Mongolia', 'Morocco', 'Mozambique', 'Burma', 'Namibia', 'Nauru', 'Nepal', 'Netherlands', 'Netherlands Antilles', 'New Zealand', 'Nicaragua', 'Niger', 'Nigeria', 'Norway', 'Oman', 'Pakistan', 'Palau', 'Palestine, Occupied Territories', 'Panama', 'Papua New Guinea', 'Paraguay', 'Peru', 'Philippines', 'Poland', 'Portugal', 'Puerto Rico', 'Qatar', 'Romania', 'Russia', 'Rwanda', 'Saint Kitts and Nevis', 'Saint Lucia', 'Saint Vincent and the Grenadines', 'Samoa', 'San Marino', 'Sao Tome and Principe', 'Saudi Arabia', 'Senegal', 'Serbia', 'Seychelles', 'Sierra Leone', 'Singapore', 'Slovakia', 'Slovenia', 'Solomon Islands', 'Somalia', 'South Africa', 'Spain', 'Sri Lanka', 'Sudan', 'Suriname', 'Swaziland', 'Sweden', 'Switzerland', 'Syria', 'Taiwan', 'Tajikistan', 'Tanzania', 'Thailand', 'Togo', 'Tonga', 'Trinidad and Tobago', 'Tunisia', 'Turkey', 'Turkmenistan', 'Uganda', 'Ukraine', 'United Arab Emirates', 'United Kingdom', 'United States', 'Uruguay', 'Uzbekistan', 'Vanuatu', 'Venezuela', 'Vietnam', 'Virgin Islands', 'Yemen', 'Zambia', 'Zimbabwe']\n"
     ]
    }
   ],
   "source": [
    "print csv_countries"
   ]
  },
  {
   "cell_type": "code",
   "execution_count": 14,
   "metadata": {
    "collapsed": false
   },
   "outputs": [],
   "source": [
    "country_code_new=pd.read_csv(\"country_code.csv\",index_col=\"code\")"
   ]
  },
  {
   "cell_type": "code",
   "execution_count": 15,
   "metadata": {
    "collapsed": false
   },
   "outputs": [],
   "source": [
    "medal_countries=[]\n",
    "medal_country_code_in_json=[]\n",
    "for code in medal_country:\n",
    "    if code in csv_dict_new:\n",
    "        medal_countries.append(csv_dict_new[code])\n",
    "        medal_country_code_in_json.append(code)"
   ]
  },
  {
   "cell_type": "code",
   "execution_count": 16,
   "metadata": {
    "collapsed": false,
    "scrolled": true
   },
   "outputs": [],
   "source": [
    "medal_countries_in_json=[]\n",
    "for country in medal_countries:\n",
    "    if country  in json_countries:\n",
    "        medal_countries_in_json.append(country) "
   ]
  },
  {
   "cell_type": "code",
   "execution_count": 17,
   "metadata": {
    "collapsed": false
   },
   "outputs": [],
   "source": [
    "medal_country_whose_code_not_in_json=[]\n",
    "for country in medal_countries_in_json:\n",
    "    if csv_dict[country] not in json_ids:\n",
    "        medal_country_whose_code_not_in_json.append(country)"
   ]
  },
  {
   "cell_type": "code",
   "execution_count": 18,
   "metadata": {
    "collapsed": false
   },
   "outputs": [
    {
     "name": "stdout",
     "output_type": "stream",
     "text": [
      "['Algeria', 'Bulgaria', 'Chile', 'Costa Rica', 'Croatia', 'Denmark', 'Germany', 'Greece', 'Haiti', 'Indonesia', 'Iran', 'Saudi Arabia', 'Kuwait', 'Latvia', 'Lebanon', 'Malaysia', 'Mongolia', 'Netherlands', 'Nigeria', 'Niger', 'Paraguay', 'Philippines', 'Portugal', 'Puerto Rico', 'South Africa', 'Slovenia', 'Sri Lanka', 'Sudan', 'Switzerland', 'Togo', 'Taiwan', 'Trinidad and Tobago', 'United Arab Emirates', 'Uruguay', 'Vietnam', 'Zambia', 'Zimbabwe']\n"
     ]
    }
   ],
   "source": [
    "print medal_country_whose_code_not_in_json"
   ]
  },
  {
   "cell_type": "code",
   "execution_count": 19,
   "metadata": {
    "collapsed": false
   },
   "outputs": [],
   "source": [
    "csv_code_to_json_code=dict()\n",
    "for country in medal_country_whose_code_not_in_json:\n",
    "    csv_code_to_json_code[csv_dict[country]]= json_dict2[country]"
   ]
  },
  {
   "cell_type": "code",
   "execution_count": 20,
   "metadata": {
    "collapsed": false
   },
   "outputs": [
    {
     "name": "stdout",
     "output_type": "stream",
     "text": [
      "{'PAR': u'PRY', 'SUD': u'SDN', 'DEN': u'DNK', 'LIB': u'LBN', 'KUW': u'KWT', 'NED': u'NLD', 'SUI': u'CHE', 'RSA': u'ZAF', 'CRC': u'CRI', 'KSA': u'SAU', 'NGR': u'NGA', 'CRO': u'HRV', 'GER': u'DEU', 'POR': u'PRT', 'TOG': u'TGO', 'BUL': u'BGR', 'UAE': u'ARE', 'TRI': u'TTO', 'HAI': u'HTI', 'TPE': u'TWN', 'CHI': u'CHL', 'SRI': u'LKA', 'PHI': u'PHL', 'IRI': u'IRN', 'GRE': u'GRC', 'ZIM': u'ZWE', 'MAS': u'MYS', 'ZAM': u'ZMB', 'URU': u'URY', 'ALG': u'DZA', 'VIE': u'VNM', 'NIG': u'NER', 'MGL': u'MNG', 'SLO': u'SVN', 'LAT': u'LVA', 'INA': u'IDN', 'PUR': u'PRI'}\n"
     ]
    }
   ],
   "source": [
    "print csv_code_to_json_code"
   ]
  },
  {
   "cell_type": "code",
   "execution_count": 21,
   "metadata": {
    "collapsed": false
   },
   "outputs": [
    {
     "name": "stdout",
     "output_type": "stream",
     "text": [
      "AFG\n",
      "ARG\n",
      "ARM\n",
      "AUS\n",
      "AUT\n",
      "AZE\n",
      "BDI\n",
      "BEL\n",
      "BLR\n",
      "BRA\n",
      "CAN\n",
      "CHN\n",
      "CIV\n",
      "CMR\n",
      "COL\n",
      "CUB\n",
      "CZE\n",
      "DJI\n",
      "DOM\n",
      "ECU\n",
      "EGY\n",
      "ERI\n",
      "ESP\n",
      "EST\n",
      "ETH\n",
      "FIN\n",
      "FRA\n",
      "GBR\n",
      "GEO\n",
      "GHA\n",
      "GUY\n",
      "HUN\n",
      "IND\n",
      "IRL\n",
      "IRQ\n",
      "ISL\n",
      "ISR\n",
      "ITA\n",
      "JAM\n",
      "JPN\n",
      "KAZ\n",
      "KEN\n",
      "KGZ\n",
      "KOR\n",
      "LTU\n",
      "LUX\n",
      "MAR\n",
      "MDA\n",
      "MEX\n",
      "MKD\n",
      "MOZ\n",
      "NAM\n",
      "NOR\n",
      "NZL\n",
      "PAK\n",
      "PAN\n",
      "PER\n",
      "POL\n",
      "PRK\n",
      "QAT\n",
      "RUS\n",
      "SEN\n",
      "SUR\n",
      "SVK\n",
      "SWE\n",
      "SYR\n",
      "THA\n",
      "TJK\n",
      "TUN\n",
      "TUR\n",
      "UGA\n",
      "UKR\n",
      "USA\n",
      "UZB\n",
      "VEN\n"
     ]
    }
   ],
   "source": [
    "new_medal_countries={}\n",
    "for code in medal_country_code_in_json:\n",
    "    if code not in csv_code_to_json_code.keys() and code in json_ids:\n",
    "        new_medal_countries[code]=medals_by_country.loc[code]\n",
    "        print code\n",
    "    elif code in csv_code_to_json_code.keys():\n",
    "        new_code=csv_code_to_json_code[code]\n",
    "        new_medal_countries[new_code]=medals_by_country.loc[code]\n",
    "\n",
    "    "
   ]
  },
  {
   "cell_type": "code",
   "execution_count": 22,
   "metadata": {
    "collapsed": false
   },
   "outputs": [
    {
     "name": "stdout",
     "output_type": "stream",
     "text": [
      "{u'DZA': 14, 'QAT': 2, 'EGY': 24, 'NAM': 4, u'BGR': 331, 'GHA': 16, 'PAK': 121, 'PAN': 3, u'MYS': 6, u'PRI': 6, 'PRK': 52, u'PRT': 31, u'PRY': 17, u'SAU': 2, u'LBN': 4, u'SVN': 21, u'CHE': 376, u'HRV': 79, u'CHL': 33, 'CHN': 679, 'JAM': 102, 'DJI': 1, 'FIN': 451, u'URY': 76, 'THA': 21, 'MAR': 21, u'PHL': 9, u'ZAF': 97, 'SYR': 3, 'KAZ': 39, u'NGA': 84, 'BEL': 408, u'DEU': 1211, u'LKA': 2, 'GBR': 1594, 'GUY': 1, u'CRI': 4, 'CMR': 22, 'HUN': 1053, u'TTO': 20, u'NLD': 782, 'GEO': 18, u'MNG': 19, 'AFG': 1, 'BDI': 1, 'BLR': 92, u'GRC': 145, u'ZWE': 23, 'MOZ': 2, 'TJK': 2, u'HTI': 8, 'IND': 178, 'IRL': 24, u'VNM': 2, 'NOR': 537, 'CZE': 41, 'DOM': 4, 'LUX': 2, 'ISR': 7, 'PER': 15, u'IDN': 35, 'SUR': 2, 'ISL': 17, 'ETH': 38, u'NER': 1, 'COL': 11, 'MDA': 6, 'ECU': 2, 'SEN': 1, 'FRA': 1314, 'LTU': 50, 'UGA': 6, u'ZMB': 2, u'TWN': 42, u'DNK': 491, 'UKR': 148, 'AUS': 1075, 'AUT': 146, 'VEN': 11, 'KEN': 81, 'TUR': 82, 'ITA': 1228, 'TUN': 7, 'RUS': 638, 'MEX': 80, 'BRA': 372, 'CIV': 1, 'MKD': 1, 'USA': 4335, 'SWE': 1021, 'AZE': 16, 'CAN': 592, 'KOR': 466, 'ERI': 1, 'SVK': 29, 'UZB': 17, 'POL': 499, u'KWT': 1, u'TGO': 1, 'EST': 37, 'ESP': 377, 'IRQ': 1, u'LVA': 17, u'IRN': 48, 'NZL': 164, 'JPN': 704, 'KGZ': 3, u'ARE': 1, 'ARG': 239, u'SDN': 1, 'ARM': 9, 'CUB': 395}\n"
     ]
    }
   ],
   "source": [
    "print new_medal_countries"
   ]
  },
  {
   "cell_type": "code",
   "execution_count": 23,
   "metadata": {
    "collapsed": false,
    "scrolled": true
   },
   "outputs": [],
   "source": [
    "for code in new_medal_countries:\n",
    "    if code not in json_ids:\n",
    "        if code in csv_dict_new.keys():\n",
    "            print code, csv_dict_new[code]"
   ]
  },
  {
   "cell_type": "code",
   "execution_count": 24,
   "metadata": {
    "collapsed": false
   },
   "outputs": [
    {
     "name": "stdout",
     "output_type": "stream",
     "text": [
      "112\n"
     ]
    }
   ],
   "source": [
    "print len(new_medal_countries)"
   ]
  },
  {
   "cell_type": "code",
   "execution_count": 25,
   "metadata": {
    "collapsed": false
   },
   "outputs": [
    {
     "name": "stdout",
     "output_type": "stream",
     "text": [
      "177\n"
     ]
    }
   ],
   "source": [
    "print len(json_ids)"
   ]
  },
  {
   "cell_type": "code",
   "execution_count": 26,
   "metadata": {
    "collapsed": false,
    "scrolled": false
   },
   "outputs": [
    {
     "name": "stdout",
     "output_type": "stream",
     "text": [
      "AGO --- Angola\n",
      "DZA --- Algeria\n",
      "EGY --- Egypt\n",
      "BGD --- Bangladesh\n",
      "QAT --- Qatar\n",
      "NAM --- Namibia\n",
      "BGR --- Bulgaria\n",
      "BOL --- Bolivia\n",
      "GHA --- Ghana\n",
      "PAK --- Pakistan\n",
      "PAN --- Panama\n",
      "JOR --- Jordan\n",
      "LBR --- Liberia\n",
      "LBY --- Libya\n",
      "MYS --- Malaysia\n",
      "DOM --- Dominican Republic\n",
      "PRI --- Puerto Rico\n",
      "PRK --- North Korea\n",
      "TZA --- United Republic of Tanzania\n",
      "BWA --- Botswana\n",
      "KHM --- Cambodia\n",
      "PRY --- Paraguay\n",
      "SAU --- Saudi Arabia\n",
      "LBN --- Lebanon\n",
      "SVN --- Slovenia\n",
      "BFA --- Burkina Faso\n",
      "CHE --- Switzerland\n",
      "MRT --- Mauritania\n",
      "HRV --- Croatia\n",
      "CHL --- Chile\n",
      "CHN --- China\n",
      "JAM --- Jamaica\n",
      "DJI --- Djibouti\n",
      "GIN --- Guinea\n",
      "FIN --- Finland\n",
      "URY --- Uruguay\n",
      "THA --- Thailand\n",
      "NPL --- Nepal\n",
      "LAO --- Laos\n",
      "YEM --- Yemen\n",
      "PHL --- Philippines\n",
      "ZAF --- South Africa\n",
      "NIC --- Nicaragua\n",
      "ROU --- Romania\n",
      "SYR --- Syria\n",
      "KAZ --- Kazakhstan\n",
      "SUR --- Suriname\n",
      "BEN --- Benin\n",
      "NGA --- Nigeria\n",
      "BEL --- Belgium\n",
      "TGO --- Togo\n",
      "DEU --- Germany\n",
      "LKA --- Sri Lanka\n",
      "FLK --- Falkland Islands\n",
      "GBR --- England\n",
      "GUY --- Guyana\n",
      "CRI --- Costa Rica\n",
      "CMR --- Cameroon\n",
      "MAR --- Morocco\n",
      "LSO --- Lesotho\n",
      "HUN --- Hungary\n",
      "TKM --- Turkmenistan\n",
      "TTO --- Trinidad and Tobago\n",
      "NLD --- Netherlands\n",
      "TCD --- Chad\n",
      "GEO --- Georgia\n",
      "MNE --- Montenegro\n",
      "MNG --- Mongolia\n",
      "-99 --- Somaliland\n",
      "BLZ --- Belize\n",
      "MMR --- Myanmar\n",
      "AFG --- Afghanistan\n",
      "BDI --- Burundi\n",
      "BLR --- Belarus\n",
      "GRC --- Greece\n",
      "GRL --- Greenland\n",
      "ZWE --- Zimbabwe\n",
      "MOZ --- Mozambique\n",
      "TJK --- Tajikistan\n",
      "HTI --- Haiti\n",
      "PSE --- West Bank\n",
      "IND --- India\n",
      "LVA --- Latvia\n",
      "BTN --- Bhutan\n",
      "VNM --- Vietnam\n",
      "NOR --- Norway\n",
      "CZE --- Czech Republic\n",
      "ATF --- French Southern and Antarctic Lands\n",
      "FJI --- Fiji\n",
      "HND --- Honduras\n",
      "ATA --- Antarctica\n",
      "LUX --- Luxembourg\n",
      "ISR --- Israel\n",
      "PER --- Peru\n",
      "IDN --- Indonesia\n",
      "VUT --- Vanuatu\n",
      "MKD --- Macedonia\n",
      "COD --- Democratic Republic of the Congo\n",
      "COG --- Republic of the Congo\n",
      "ISL --- Iceland\n",
      "ETH --- Ethiopia\n",
      "NER --- Niger\n",
      "COL --- Colombia\n",
      "PRT --- Portugal\n",
      "MDA --- Moldova\n",
      "MDG --- Madagascar\n",
      "ECU --- Ecuador\n",
      "SEN --- Senegal\n",
      "SRB --- Republic of Serbia\n",
      "FRA --- France\n",
      "LTU --- Lithuania\n",
      "RWA --- Rwanda\n",
      "ZMB --- Zambia\n",
      "GMB --- Gambia\n",
      "GTM --- Guatemala\n",
      "DNK --- Denmark\n",
      "UKR --- Ukraine\n",
      "AUS --- Australia\n",
      "AUT --- Austria\n",
      "VEN --- Venezuela\n",
      "KEN --- Kenya\n",
      "TUR --- Turkey\n",
      "SDS --- South Sudan\n",
      "ALB --- Albania\n",
      "OMN --- Oman\n",
      "ITA --- Italy\n",
      "BRN --- Brunei\n",
      "TUN --- Tunisia\n",
      "RUS --- Russia\n",
      "MEX --- Mexico\n",
      "BRA --- Brazil\n",
      "CIV --- Ivory Coast\n",
      "TLS --- East Timor\n",
      "GNQ --- Equatorial Guinea\n",
      "USA --- USA\n",
      "SWE --- Sweden\n",
      "AZE --- Azerbaijan\n",
      "GNB --- Guinea Bissau\n",
      "SWZ --- Swaziland\n",
      "CAN --- Canada\n",
      "KOR --- South Korea\n",
      "CAF --- Central African Republic\n",
      "SVK --- Slovakia\n",
      "CYP --- Cyprus\n",
      "BIH --- Bosnia and Herzegovina\n",
      "TWN --- Taiwan\n",
      "SOM --- Somalia\n",
      "UZB --- Uzbekistan\n",
      "ERI --- Eritrea\n",
      "POL --- Poland\n",
      "KWT --- Kuwait\n",
      "GAB --- Gabon\n",
      "EST --- Estonia\n",
      "MWI --- Malawi\n",
      "ESP --- Spain\n",
      "IRQ --- Iraq\n",
      "SLV --- El Salvador\n",
      "MLI --- Mali\n",
      "IRL --- Ireland\n",
      "IRN --- Iran\n",
      "SLE --- Sierra Leone\n",
      "SDN --- Sudan\n",
      "SLB --- Solomon Islands\n",
      "NZL --- New Zealand\n",
      "JPN --- Japan\n",
      "KGZ --- Kyrgyzstan\n",
      "UGA --- Uganda\n",
      "NCL --- New Caledonia\n",
      "ARE --- United Arab Emirates\n",
      "ARG --- Argentina\n",
      "BHS --- The Bahamas\n",
      "ARM --- Armenia\n",
      "PNG --- Papua New Guinea\n",
      "CUB --- Cuba\n"
     ]
    }
   ],
   "source": [
    "for k, v in json_dict.items():\n",
    "    print k,\"---\",v"
   ]
  },
  {
   "cell_type": "code",
   "execution_count": 27,
   "metadata": {
    "collapsed": true
   },
   "outputs": [],
   "source": [
    "import csv\n",
    "w = csv.writer(open(\"output.csv\", \"w\"))\n",
    "for key, val in new_medal_countries.items():\n",
    "    w.writerow([key, val])"
   ]
  },
  {
   "cell_type": "code",
   "execution_count": 37,
   "metadata": {
    "collapsed": false
   },
   "outputs": [],
   "source": [
    "import json\n",
    "\n",
    "json.dump(new_medal_countries,open(\"new_medal_countries.json\",\"w\"))"
   ]
  },
  {
   "cell_type": "code",
   "execution_count": 29,
   "metadata": {
    "collapsed": true
   },
   "outputs": [],
   "source": [
    "medals_by_year_country=medals.groupby([\"Edition\",\"NOC\"]).count()[\"Medal\"]"
   ]
  },
  {
   "cell_type": "code",
   "execution_count": 30,
   "metadata": {
    "collapsed": false,
    "scrolled": true
   },
   "outputs": [
    {
     "name": "stdout",
     "output_type": "stream",
     "text": [
      "Edition  NOC\n",
      "1896     AUS      2\n",
      "         AUT      5\n",
      "         DEN      6\n",
      "         FRA     11\n",
      "         GBR      7\n",
      "         GER     33\n",
      "         GRE     52\n",
      "         HUN      6\n",
      "         SUI      3\n",
      "         USA     20\n",
      "         ZZX      6\n",
      "1900     AUS      5\n",
      "         AUT      6\n",
      "         BEL     39\n",
      "         BOH      2\n",
      "         CAN      2\n",
      "         CUB      2\n",
      "         DEN      6\n",
      "         ESP      2\n",
      "         FRA    185\n",
      "         GBR     78\n",
      "         GER     40\n",
      "         HUN      5\n",
      "         IND      2\n",
      "         ITA      4\n",
      "         NED     20\n",
      "         NOR      9\n",
      "         SUI     15\n",
      "         SWE      1\n",
      "         USA     55\n",
      "               ... \n",
      "2008     NGR     24\n",
      "         NOR     22\n",
      "         NZL     14\n",
      "         PAN      1\n",
      "         POL     20\n",
      "         POR      2\n",
      "         PRK      6\n",
      "         ROU     22\n",
      "         RSA      1\n",
      "         RUS    143\n",
      "         SIN      3\n",
      "         SLO      5\n",
      "         SRB     15\n",
      "         SUD      1\n",
      "         SUI     11\n",
      "         SVK     10\n",
      "         SWE      7\n",
      "         THA      4\n",
      "         TJK      2\n",
      "         TOG      1\n",
      "         TPE      4\n",
      "         TRI      5\n",
      "         TUN      1\n",
      "         TUR      8\n",
      "         UKR     31\n",
      "         USA    315\n",
      "         UZB      6\n",
      "         VEN      1\n",
      "         VIE      1\n",
      "         ZIM      4\n",
      "Name: Medal, dtype: int64\n"
     ]
    }
   ],
   "source": [
    "print medals_by_year_country"
   ]
  },
  {
   "cell_type": "code",
   "execution_count": 31,
   "metadata": {
    "collapsed": false
   },
   "outputs": [
    {
     "name": "stdout",
     "output_type": "stream",
     "text": [
      "2\n"
     ]
    }
   ],
   "source": [
    "print medals_by_year_country[1896][\"AUS\"]"
   ]
  },
  {
   "cell_type": "code",
   "execution_count": 32,
   "metadata": {
    "collapsed": false
   },
   "outputs": [
    {
     "name": "stdout",
     "output_type": "stream",
     "text": [
      "DNK --- 6\n",
      "DEU --- 33\n",
      "GRC --- 52\n",
      "CHE --- 3\n",
      "DNK --- 6\n",
      "DEU --- 40\n",
      "NLD --- 20\n",
      "CHE --- 15\n",
      "DEU --- 13\n",
      "GRC --- 2\n",
      "CHE --- 2\n",
      "DNK --- 15\n",
      "DEU --- 22\n",
      "GRC --- 3\n",
      "NLD --- 11\n",
      "ZAF --- 2\n",
      "DNK --- 84\n",
      "DEU --- 52\n",
      "GRC --- 2\n",
      "NLD --- 22\n",
      "ZAF --- 7\n",
      "DNK --- 75\n",
      "GRC --- 5\n",
      "NLD --- 48\n",
      "ZAF --- 21\n",
      "CHE --- 29\n",
      "DNK --- 12\n",
      "HTI --- 7\n",
      "NLD --- 26\n",
      "PRT --- 3\n",
      "ZAF --- 3\n",
      "CHE --- 65\n",
      "URY --- 22\n",
      "CHL --- 1\n",
      "DNK --- 13\n",
      "DEU --- 72\n",
      "HTI --- 1\n",
      "NLD --- 65\n",
      "PHL --- 1\n",
      "ZAF --- 6\n",
      "CHE --- 29\n",
      "URY --- 22\n",
      "DNK --- 9\n",
      "DEU --- 38\n",
      "LVA --- 1\n",
      "NLD --- 12\n",
      "PHL --- 3\n",
      "ZAF --- 5\n",
      "CHE --- 1\n",
      "URY --- 1\n",
      "DNK --- 6\n",
      "DEU --- 210\n",
      "LVA --- 2\n",
      "NLD --- 37\n",
      "PHL --- 1\n",
      "PRT --- 3\n",
      "ZAF --- 1\n",
      "CHE --- 47\n",
      "DNK --- 49\n",
      "IRN --- 1\n",
      "NLD --- 42\n",
      "PRT --- 5\n",
      "PRI --- 1\n",
      "ZAF --- 4\n",
      "LKA --- 1\n",
      "CHE --- 32\n",
      "TTO --- 1\n",
      "URY --- 3\n",
      "BGR --- 1\n",
      "CHL --- 4\n",
      "DNK --- 9\n",
      "DEU --- 40\n",
      "IRN --- 7\n",
      "LBN --- 2\n",
      "NLD --- 18\n",
      "PRT --- 2\n",
      "ZAF --- 14\n",
      "CHE --- 33\n",
      "TTO --- 2\n",
      "URY --- 14\n",
      "BGR --- 18\n",
      "CHL --- 4\n",
      "DNK --- 7\n",
      "GRC --- 1\n",
      "IRN --- 5\n",
      "ZAF --- 7\n",
      "CHE --- 3\n",
      "URY --- 12\n",
      "BGR --- 7\n",
      "DNK --- 23\n",
      "GRC --- 3\n",
      "IRN --- 4\n",
      "NLD --- 3\n",
      "PRT --- 2\n",
      "ZAF --- 3\n",
      "CHE --- 11\n",
      "TWN --- 1\n",
      "BGR --- 10\n",
      "DNK --- 12\n",
      "IRN --- 2\n",
      "NLD --- 30\n",
      "NGA --- 1\n",
      "PHL --- 1\n",
      "CHE --- 6\n",
      "TTO --- 6\n",
      "URY --- 1\n",
      "BGR --- 26\n",
      "DNK --- 16\n",
      "GRC --- 1\n",
      "IRN --- 5\n",
      "MNG --- 4\n",
      "NLD --- 14\n",
      "CHE --- 13\n",
      "TWN --- 1\n",
      "BGR --- 22\n",
      "DNK --- 1\n",
      "GRC --- 2\n",
      "IRN --- 3\n",
      "LBN --- 1\n",
      "MNG --- 1\n",
      "NLD --- 6\n",
      "NGA --- 1\n",
      "NER --- 1\n",
      "CHE --- 8\n",
      "BGR --- 39\n",
      "DNK --- 8\n",
      "IRN --- 2\n",
      "MNG --- 1\n",
      "NLD --- 15\n",
      "PRT --- 2\n",
      "PRI --- 1\n",
      "CHE --- 10\n",
      "TTO --- 1\n",
      "BGR --- 94\n",
      "DNK --- 8\n",
      "GRC --- 5\n",
      "LBN --- 1\n",
      "MNG --- 4\n",
      "NLD --- 6\n",
      "CHE --- 2\n",
      "ZWE --- 16\n",
      "DZA --- 2\n",
      "DNK --- 15\n",
      "GRC --- 2\n",
      "NLD --- 40\n",
      "NGA --- 5\n",
      "PRT --- 3\n",
      "PRI --- 2\n",
      "CHE --- 15\n",
      "TWN --- 1\n",
      "ZMB --- 1\n",
      "BGR --- 41\n",
      "CHL --- 1\n",
      "CRI --- 1\n",
      "DNK --- 7\n",
      "GRC --- 1\n",
      "IDN --- 3\n",
      "IRN --- 1\n",
      "MNG --- 1\n",
      "NLD --- 44\n",
      "PHL --- 1\n",
      "PRT --- 1\n",
      "CHE --- 8\n",
      "DZA --- 2\n",
      "BGR --- 17\n",
      "HRV --- 15\n",
      "DNK --- 14\n",
      "DEU --- 198\n",
      "GRC --- 2\n",
      "IDN --- 6\n",
      "IRN --- 3\n",
      "LVA --- 3\n",
      "MYS --- 2\n",
      "MNG --- 2\n",
      "NLD --- 33\n",
      "NGA --- 11\n",
      "PHL --- 1\n",
      "PRI --- 1\n",
      "ZAF --- 3\n",
      "SVN --- 6\n",
      "CHE --- 1\n",
      "TWN --- 20\n",
      "DZA --- 3\n",
      "BGR --- 21\n",
      "CRI --- 1\n",
      "HRV --- 29\n",
      "DNK --- 24\n",
      "DEU --- 124\n",
      "GRC --- 8\n",
      "IDN --- 6\n",
      "IRN --- 3\n",
      "LVA --- 1\n",
      "MYS --- 3\n",
      "MNG --- 1\n",
      "NLD --- 73\n",
      "NGA --- 26\n",
      "PHL --- 1\n",
      "PRT --- 3\n",
      "PRI --- 1\n",
      "ZAF --- 5\n",
      "SVN --- 2\n",
      "CHE --- 11\n",
      "TWN --- 1\n",
      "TTO --- 2\n",
      "ZMB --- 1\n",
      "DZA --- 5\n",
      "BGR --- 13\n",
      "CHL --- 18\n",
      "CRI --- 2\n",
      "HRV --- 10\n",
      "DNK --- 25\n",
      "DEU --- 119\n",
      "GRC --- 18\n",
      "IDN --- 8\n",
      "IRN --- 4\n",
      "SAU --- 2\n",
      "KWT --- 1\n",
      "LVA --- 3\n",
      "NLD --- 79\n",
      "NGA --- 8\n",
      "PRT --- 2\n",
      "ZAF --- 5\n",
      "SVN --- 3\n",
      "LKA --- 1\n",
      "CHE --- 14\n",
      "TWN --- 5\n",
      "TTO --- 2\n",
      "URY --- 1\n",
      "VNM --- 1\n",
      "BGR --- 17\n",
      "CHL --- 4\n",
      "HRV --- 20\n",
      "DNK --- 29\n",
      "DEU --- 149\n",
      "GRC --- 31\n",
      "IDN --- 5\n",
      "IRN --- 6\n",
      "LVA --- 4\n",
      "MNG --- 1\n",
      "NLD --- 76\n",
      "NGA --- 8\n",
      "PRY --- 17\n",
      "PRT --- 3\n",
      "ZAF --- 10\n",
      "SVN --- 5\n",
      "CHE --- 7\n",
      "TWN --- 9\n",
      "TTO --- 1\n",
      "ARE --- 1\n",
      "ZWE --- 3\n",
      "DZA --- 2\n",
      "BGR --- 5\n",
      "CHL --- 1\n",
      "HRV --- 5\n",
      "DNK --- 18\n",
      "DEU --- 101\n",
      "GRC --- 7\n",
      "IDN --- 7\n",
      "IRN --- 2\n",
      "LVA --- 3\n",
      "MYS --- 1\n",
      "MNG --- 4\n",
      "NLD --- 62\n",
      "NGA --- 24\n",
      "PRT --- 2\n",
      "ZAF --- 1\n",
      "SVN --- 5\n",
      "SDN --- 1\n",
      "CHE --- 11\n",
      "TGO --- 1\n",
      "TWN --- 4\n",
      "TTO --- 5\n",
      "VNM --- 1\n",
      "ZWE --- 4\n"
     ]
    }
   ],
   "source": [
    "from collections import defaultdict\n",
    "new_medals_by_year_country=defaultdict(dict)\n",
    "for i in medals_by_year_country.index:\n",
    "    #NOC in json_ids:\n",
    "    if i[1] in json_ids:\n",
    "        if i[0] not in new_medals_by_year_country.keys():\n",
    "            new_medals_by_year_country[i[0]]={}\n",
    "        new_medals_by_year_country[i[0]][i[1]]=medals_by_year_country[i[0]][i[1]]\n",
    "    #NOC not in json_ids:\n",
    "    elif i[1] not in json_ids:\n",
    "        #NOC in csv_code_to_json_code\n",
    "        if i[1] in csv_code_to_json_code.keys():\n",
    "            code=csv_code_to_json_code[i[1]]\n",
    "            new_medals_by_year_country[i[0]][code]=medals_by_year_country[i[0]][i[1]]\n",
    "            print code, \"---\",medals_by_year_country[i[0]][i[1]]\n",
    "        "
   ]
  },
  {
   "cell_type": "code",
   "execution_count": 33,
   "metadata": {
    "collapsed": false
   },
   "outputs": [],
   "source": [
    "for k, v in new_medals_by_year_country.items():\n",
    "    for key in v.keys():\n",
    "        if key not in json_ids:\n",
    "            print k"
   ]
  },
  {
   "cell_type": "code",
   "execution_count": 34,
   "metadata": {
    "collapsed": false
   },
   "outputs": [
    {
     "name": "stdout",
     "output_type": "stream",
     "text": [
      "defaultdict(<type 'dict'>, {1920: {'FRA': 141, 'EST': 3, u'CHE': 29, 'BEL': 188, 'ESP': 24, 'LUX': 1, 'JPN': 3, 'SWE': 146, u'DNK': 75, 'ITA': 84, u'NLD': 48, 'AUS': 6, 'GBR': 107, 'CAN': 16, 'NOR': 141, 'USA': 193, u'ZAF': 21, 'NZL': 1, 'FIN': 49, 'BRA': 7, u'GRC': 5}, 1924: {'BEL': 38, 'SWE': 80, 'GBR': 66, 'CAN': 20, 'USA': 198, 'HUN': 20, u'PRT': 3, 'POL': 5, u'NLD': 26, 'ROU': 23, 'FRA': 122, 'EST': 6, u'CHE': 65, u'DNK': 12, 'AUS': 10, 'AUT': 4, 'FIN': 52, u'URY': 22, 'NZL': 1, 'JPN': 1, u'ZAF': 3, u'HTI': 7, 'ITA': 51, 'ARG': 11, 'NOR': 26}, 1928: {'EGY': 4, 'BEL': 5, 'SWE': 36, u'DEU': 72, 'GBR': 55, 'CAN': 33, 'USA': 84, 'HUN': 20, 'POL': 18, u'NLD': 65, 'FRA': 36, 'EST': 9, u'CHE': 29, 'ESP': 3, u'CHL': 1, u'DNK': 13, 'AUS': 4, 'IRL': 1, 'AUT': 4, 'FIN': 25, u'URY': 22, 'NZL': 1, 'JPN': 8, u'ZAF': 6, u'PHL': 1, u'HTI': 1, 'ITA': 70, 'ARG': 32, 'IND': 15, 'NOR': 9}, 1932: {'USA': 181, 'SWE': 31, u'DEU': 38, 'GBR': 34, 'CAN': 38, 'HUN': 32, 'POL': 19, u'NLD': 12, 'FRA': 37, u'CHE': 1, 'ESP': 1, u'DNK': 9, 'AUS': 5, u'LVA': 1, 'AUT': 5, 'FIN': 29, u'URY': 1, 'NZL': 2, u'PHL': 3, u'ZAF': 5, 'JPN': 31, 'ITA': 77, 'ARG': 4, 'IND': 11, 'IRL': 2, 'MEX': 2}, 1936: {'EGY': 5, 'BEL': 12, 'SWE': 34, u'DEU': 210, 'GBR': 36, 'CAN': 22, 'USA': 92, 'HUN': 42, u'PRT': 3, 'POL': 9, u'NLD': 37, 'ROU': 2, 'FRA': 43, 'EST': 7, u'CHE': 47, u'DNK': 6, 'AUS': 1, u'LVA': 2, 'AUT': 50, 'FIN': 26, 'NZL': 1, 'JPN': 21, u'ZAF': 1, 'TUR': 2, u'PHL': 1, 'ITA': 71, 'ARG': 11, 'IND': 19, 'MEX': 16, 'NOR': 28}, 1948: {'EGY': 5, 'BEL': 14, 'SWE': 73, 'PER': 1, u'LKA': 1, 'GBR': 56, 'CAN': 6, 'KOR': 2, 'PAN': 2, 'USA': 148, 'HUN': 60, u'PRI': 1, u'PRT': 5, 'POL': 1, u'TTO': 1, u'NLD': 42, 'FRA': 68, u'CHE': 32, 'ESP': 3, u'DNK': 49, 'AUS': 16, 'JAM': 3, 'CUB': 2, u'IRN': 1, 'FIN': 29, u'URY': 3, u'ZAF': 4, 'TUR': 12, 'ITA': 63, 'BRA': 12, 'ARG': 12, 'IND': 20, 'MEX': 9, 'NOR': 18, 'AUT': 4}, 1952: {'EGY': 1, 'BEL': 7, 'LUX': 1, 'SWE': 70, u'DEU': 40, u'BGR': 1, 'GBR': 31, 'CAN': 4, 'KOR': 2, 'USA': 130, 'HUN': 101, u'PRT': 2, 'POL': 4, u'TTO': 2, u'NLD': 18, 'ROU': 4, u'LBN': 2, 'FRA': 39, u'CHE': 33, 'ESP': 1, u'CHL': 4, u'DNK': 9, 'AUS': 20, 'JAM': 8, 'IRL': 1, 'AUT': 3, u'IRN': 7, 'VEN': 1, 'FIN': 40, u'URY': 14, 'NZL': 3, 'JPN': 12, u'ZAF': 14, 'TUR': 3, 'ITA': 53, 'NOR': 13, 'ARG': 6, 'IND': 15, 'MEX': 1, 'BRA': 3}, 1956: {'BEL': 2, 'SWE': 34, u'BGR': 18, 'GBR': 45, 'CAN': 19, 'ISL': 1, 'KOR': 2, 'PAK': 14, 'USA': 118, 'HUN': 64, 'POL': 19, 'ROU': 19, 'FRA': 32, u'CHE': 3, u'CHL': 4, u'DNK': 7, 'AUS': 61, 'IRL': 5, u'GRC': 1, u'IRN': 5, 'FIN': 26, u'URY': 12, 'NZL': 3, 'JPN': 24, u'ZAF': 7, 'TUR': 7, 'ITA': 46, 'NOR': 3, 'ARG': 2, 'IND': 17, 'MEX': 2, 'BRA': 1, 'AUT': 4}, 1960: {'EGY': 2, 'BEL': 4, 'CAN': 9, 'SWE': 7, u'BGR': 7, 'GBR': 28, 'GHA': 1, 'ETH': 1, 'PAK': 14, 'USA': 112, 'HUN': 65, u'PRT': 2, 'POL': 30, u'NLD': 3, u'TWN': 1, 'ROU': 15, 'FRA': 11, u'CHE': 11, 'ESP': 14, 'IRQ': 1, u'DNK': 23, 'AUS': 36, u'GRC': 3, u'IRN': 4, 'VEN': 1, 'FIN': 6, 'NZL': 3, 'MAR': 1, 'JPN': 29, u'ZAF': 3, 'TUR': 9, 'ITA': 88, 'NOR': 2, 'ARG': 4, 'IND': 13, 'MEX': 1, 'BRA': 13, 'AUT': 3}, 1964: {u'NGA': 1, 'BEL': 3, 'SWE': 15, u'BGR': 10, 'GBR': 28, 'GHA': 1, 'ETH': 1, 'KOR': 3, 'PAK': 16, 'USA': 150, 'HUN': 56, 'POL': 48, u'TTO': 6, u'NLD': 30, 'ROU': 16, 'FRA': 31, u'CHE': 6, u'DNK': 12, 'AUS': 42, 'IRL': 1, 'CUB': 1, u'IRN': 2, 'FIN': 5, u'URY': 1, 'NZL': 6, 'KEN': 1, 'JPN': 64, 'TUR': 6, u'PHL': 1, 'ITA': 50, 'TUN': 2, 'ARG': 1, 'IND': 15, 'MEX': 1, 'BRA': 12, 'CAN': 5}, 1968: {'BEL': 3, 'SWE': 9, u'BGR': 26, 'GBR': 18, 'CAN': 10, 'ETH': 2, 'KOR': 2, 'CMR': 1, 'PAK': 13, 'USA': 149, 'HUN': 81, 'POL': 37, u'NLD': 14, 'ROU': 23, u'MNG': 4, 'FRA': 27, u'CHE': 13, 'TUN': 2, u'TWN': 1, u'DNK': 16, 'AUS': 49, 'JAM': 1, u'GRC': 1, u'IRN': 5, 'VEN': 1, 'FIN': 4, 'NZL': 7, 'KEN': 12, 'JPN': 67, 'TUR': 2, 'ITA': 32, 'UGA': 2, 'NOR': 6, 'CUB': 10, 'ARG': 2, 'IND': 15, 'MEX': 9, 'BRA': 4, 'AUT': 5}, 1972: {u'NGA': 1, 'BEL': 2, 'CAN': 10, 'SWE': 21, u'BGR': 22, 'GBR': 29, 'GHA': 1, 'ETH': 2, 'KOR': 1, u'NER': 1, 'COL': 3, 'PAK': 15, 'USA': 155, 'HUN': 81, 'PRK': 15, 'POL': 46, u'NLD': 6, 'ROU': 40, u'LBN': 1, 'FRA': 22, u'CHE': 8, 'ESP': 1, u'DNK': 1, 'AUS': 20, 'JAM': 1, u'GRC': 2, u'IRN': 3, 'FIN': 10, 'NZL': 14, 'KEN': 12, 'JPN': 56, 'TUR': 1, 'ITA': 25, 'TUN': 1, 'UGA': 2, 'NOR': 8, 'CUB': 22, 'ARG': 1, 'IND': 14, u'MNG': 1, 'MEX': 1, 'BRA': 2, 'AUT': 3}, 1976: {'BEL': 9, 'SWE': 10, u'BGR': 39, 'GBR': 32, 'CAN': 20, 'KOR': 17, 'PAK': 16, 'USA': 155, 'HUN': 55, u'PRI': 1, 'PRK': 2, u'PRT': 2, 'POL': 73, u'TTO': 1, u'NLD': 15, 'ROU': 55, u'MNG': 1, 'FRA': 20, u'CHE': 10, 'ESP': 6, u'DNK': 8, 'AUS': 24, 'JAM': 2, 'AUT': 1, u'IRN': 2, 'VEN': 1, 'FIN': 6, 'THA': 1, 'NZL': 27, 'JPN': 41, 'ITA': 31, 'BRA': 3, 'MEX': 2, 'NOR': 6, 'CUB': 24}, 1980: {'BEL': 1, 'SWE': 18, u'ZWE': 16, u'BGR': 94, 'GBR': 45, 'ETH': 4, 'GUY': 1, 'HUN': 61, 'PRK': 5, 'POL': 50, u'NLD': 6, 'ROU': 72, u'MNG': 4, 'FRA': 29, u'CHE': 2, 'ESP': 24, u'DNK': 8, 'AUS': 12, 'JAM': 3, 'IRL': 3, u'GRC': 5, 'VEN': 1, 'FIN': 9, 'ITA': 37, 'UGA': 1, 'CUB': 20, 'IND': 16, u'LBN': 1, 'MEX': 12, 'BRA': 9, 'AUT': 5}, 1984: {u'DZA': 2, 'EGY': 1, u'NGA': 5, 'BEL': 5, 'DOM': 1, 'CAN': 86, 'SWE': 32, 'PER': 1, 'GBR': 72, 'CIV': 1, 'ISL': 1, 'KOR': 42, 'COL': 1, 'PAK': 16, 'USA': 333, u'PRI': 2, 'CMR': 1, u'PRT': 3, u'NLD': 40, 'ROU': 106, 'FRA': 68, u'CHE': 15, 'ESP': 19, u'ZMB': 1, u'TWN': 1, u'GRC': 2, u'DNK': 15, 'AUS': 50, 'JAM': 6, 'IRL': 1, 'CHN': 76, 'VEN': 3, 'FIN': 12, 'THA': 1, 'NZL': 23, 'KEN': 3, 'MAR': 2, 'JPN': 49, 'TUR': 3, 'ITA': 63, 'SYR': 1, 'NOR': 4, 'MEX': 6, 'BRA': 37, 'AUT': 3}, 1988: {'BEL': 2, 'SWE': 16, 'PER': 12, u'IDN': 3, u'BGR': 41, 'GBR': 53, 'CAN': 21, u'CRI': 1, 'COL': 1, 'KOR': 77, 'USA': 193, 'HUN': 44, u'PRT': 1, 'POL': 21, 'SUR': 1, u'NLD': 44, 'SEN': 1, 'CHN': 53, 'ROU': 51, u'MNG': 1, 'FRA': 29, u'CHE': 8, 'ESP': 5, u'CHL': 1, u'DNK': 7, 'PAK': 1, 'AUS': 34, 'JAM': 5, u'GRC': 1, u'IRN': 1, 'DJI': 1, 'FIN': 4, 'THA': 1, 'NZL': 24, 'KEN': 9, 'MAR': 3, 'JPN': 20, 'TUR': 2, u'PHL': 1, 'ITA': 29, 'NOR': 23, 'ARG': 13, 'MEX': 2, 'BRA': 28, 'AUT': 1}, 1992: {u'DZA': 2, 'QAT': 1, u'NGA': 11, 'BEL': 3, 'CAN': 44, 'ISR': 2, 'SWE': 35, u'DEU': 198, 'PER': 1, 'NAM': 2, u'IDN': 6, u'BGR': 17, 'GBR': 50, 'GHA': 13, 'ETH': 3, 'KOR': 49, 'COL': 1, 'PAK': 16, 'USA': 224, 'MEX': 1, 'HUN': 45, u'PRI': 1, 'PRK': 10, 'POL': 42, 'SUR': 1, u'NLD': 33, 'CHN': 83, 'ROU': 53, u'MNG': 2, u'SVN': 6, 'FRA': 57, 'EST': 3, u'CHE': 1, 'LTU': 13, 'ESP': 66, u'TWN': 20, u'HRV': 15, u'DNK': 14, 'AUS': 57, 'JAM': 4, 'IRL': 2, u'GRC': 2, u'IRN': 3, 'FIN': 7, 'THA': 1, 'NZL': 15, 'KEN': 8, 'MAR': 3, 'JPN': 47, u'ZAF': 3, 'TUR': 6, u'PHL': 1, 'ITA': 46, 'NOR': 23, 'CUB': 71, 'ARG': 2, u'LVA': 3, u'MYS': 2, 'BRA': 14, 'AUT': 6}, 1996: {u'DZA': 3, u'SVN': 2, u'GRC': 8, u'NGA': 26, 'BEL': 6, 'ISR': 1, 'TUN': 1, 'MOZ': 1, u'LVA': 1, 'AZE': 1, 'NAM': 2, u'IDN': 6, u'BGR': 21, 'GBR': 26, 'CAN': 51, 'UKR': 34, 'ETH': 3, u'CRI': 1, 'SVK': 3, 'KOR': 66, u'TWN': 1, u'MYS': 3, 'MEX': 1, 'HUN': 43, 'MDA': 3, u'PRI': 1, 'POL': 21, 'PRK': 5, u'PRT': 3, 'ECU': 1, u'TTO': 2, u'NLD': 73, 'USA': 260, 'GEO': 2, 'ROU': 38, u'MNG': 1, u'DEU': 124, 'FRA': 51, u'CHE': 11, 'LTU': 12, 'ESP': 67, u'ZMB': 1, 'SWE': 31, u'HRV': 29, 'BDI': 1, u'DNK': 24, 'BLR': 23, 'AUS': 132, 'JAM': 16, 'IRL': 4, 'CHN': 110, u'IRN': 3, 'RUS': 115, 'FIN': 4, 'THA': 2, 'NZL': 9, 'KEN': 8, 'MAR': 2, 'UZB': 2, 'JPN': 43, u'ZAF': 5, 'TUR': 6, u'PHL': 1, 'ITA': 71, 'SYR': 1, 'UGA': 1, 'NOR': 25, 'CUB': 57, 'ARG': 20, 'IND': 1, 'KAZ': 11, 'CZE': 13, 'ARM': 2, 'BRA': 64, 'AUT': 3}, 2000: {u'DZA': 5, 'QAT': 1, u'GRC': 18, 'MKD': 1, u'NGA': 8, 'BEL': 7, 'ISR': 1, 'MOZ': 1, u'LVA': 3, 'AZE': 3, u'LKA': 1, u'IDN': 8, u'BGR': 13, 'GBR': 55, 'CAN': 31, 'ISL': 1, 'UKR': 35, 'ETH': 8, u'CRI': 2, 'CMR': 18, 'SVK': 6, 'KOR': 73, u'TWN': 5, 'USA': 248, 'MEX': 6, 'HUN': 53, 'MDA': 2, 'PRK': 4, 'COL': 1, u'PRT': 2, 'POL': 24, u'TTO': 2, u'KWT': 1, 'GEO': 6, 'ROU': 46, u'SAU': 2, u'NLD': 79, u'DEU': 119, u'VNM': 1, 'FRA': 66, 'EST': 3, u'CHE': 14, 'LTU': 17, 'ESP': 43, 'SWE': 32, u'HRV': 10, u'CHL': 18, u'DNK': 25, 'BLR': 22, 'AUS': 183, 'JAM': 23, 'IRL': 1, 'CHN': 79, u'IRN': 4, 'RUS': 188, 'FIN': 5, u'URY': 1, 'THA': 3, 'NZL': 4, 'KEN': 7, 'MAR': 5, 'UZB': 4, 'JPN': 43, u'ZAF': 5, 'TUR': 5, 'KGZ': 1, 'ITA': 65, 'NOR': 44, 'CUB': 69, 'ARG': 20, 'IND': 1, 'KAZ': 7, 'CZE': 9, u'SVN': 3, 'ARM': 1, 'BRA': 48, 'AUT': 4}, 2004: {u'SVN': 5, 'EGY': 5, u'IRN': 6, 'BEL': 3, 'DOM': 1, 'ISR': 2, 'SWE': 12, 'AZE': 5, 'SVK': 10, u'IDN': 5, u'BGR': 17, 'GBR': 57, 'CAN': 17, 'UKR': 48, 'ETH': 7, 'KOR': 52, 'COL': 2, u'NGA': 8, 'UZB': 5, 'USA': 264, 'HUN': 40, u'ARE': 1, 'PRK': 5, 'ERI': 1, 'CMR': 1, u'PRT': 3, 'POL': 12, u'TTO': 1, u'NLD': 76, 'GEO': 4, 'ROU': 39, u'MNG': 1, u'DEU': 149, 'FRA': 53, 'EST': 3, u'CHE': 7, 'LTU': 3, 'ESP': 27, u'TWN': 9, u'HRV': 20, u'CHL': 4, u'DNK': 29, 'BLR': 17, 'AUS': 157, 'JAM': 13, u'LVA': 4, 'CHN': 94, u'GRC': 31, 'RUS': 192, 'VEN': 2, 'FIN': 2, 'THA': 8, 'NZL': 6, u'ZWE': 3, 'KEN': 7, 'MAR': 3, 'JPN': 94, u'ZAF': 10, u'PRY': 17, 'TUR': 10, 'ITA': 102, 'SYR': 1, 'NOR': 7, 'CUB': 61, 'ARG': 47, 'IND': 1, 'KAZ': 8, 'CZE': 12, 'MEX': 4, 'BRA': 40, 'AUT': 8}, 2008: {u'DZA': 2, u'SVN': 5, 'EGY': 1, u'IRN': 2, 'BEL': 5, 'DOM': 2, 'ISR': 1, 'TUR': 8, u'LVA': 3, 'AZE': 7, 'SVK': 10, u'IDN': 7, u'BGR': 5, 'EST': 3, 'GBR': 77, 'CAN': 34, 'ISL': 14, 'UKR': 31, 'ETH': 7, 'KOR': 78, 'CMR': 1, 'PAN': 1, u'NGA': 24, u'TGO': 1, u'MYS': 1, u'TWN': 4, 'USA': 315, 'MEX': 4, 'HUN': 27, 'MDA': 1, 'POL': 20, 'PRK': 6, 'COL': 2, 'SRB': 15, u'PRT': 2, 'ECU': 1, u'TTO': 5, u'NLD': 62, 'GEO': 6, 'ROU': 22, u'MNG': 4, u'DEU': 101, u'VNM': 1, 'FRA': 76, 'AFG': 1, u'CHE': 11, 'LTU': 5, 'ESP': 71, 'SWE': 7, u'HRV': 5, u'CHL': 1, u'DNK': 18, 'BLR': 30, 'AUS': 149, 'JAM': 17, 'IRL': 3, 'CHN': 184, u'GRC': 7, 'RUS': 143, 'VEN': 1, 'FIN': 5, 'THA': 4, 'NZL': 14, u'ZWE': 4, 'KEN': 14, 'MAR': 2, 'UZB': 6, 'JPN': 51, u'ZAF': 1, 'TJK': 2, 'KGZ': 2, 'ITA': 42, 'TUN': 1, 'NOR': 22, 'CUB': 47, 'ARG': 51, 'IND': 3, 'KAZ': 13, u'SDN': 1, 'CZE': 7, 'ARM': 6, 'BRA': 75, 'AUT': 3}, 1896: {'FRA': 11, u'CHE': 3, 'USA': 20, 'HUN': 6, u'DEU': 33, u'DNK': 6, 'AUS': 2, 'GBR': 7, 'AUT': 5, u'GRC': 52}, 1900: {'FRA': 185, u'CHE': 15, 'BEL': 39, 'ESP': 2, 'CAN': 2, 'HUN': 5, 'SWE': 1, u'DEU': 40, u'DNK': 6, 'ITA': 4, u'NLD': 20, 'AUS': 5, 'GBR': 78, 'CUB': 2, 'USA': 55, 'IND': 2, 'NOR': 9, 'AUT': 6}, 1904: {u'CHE': 2, 'USA': 394, 'CAN': 35, 'HUN': 4, u'DEU': 13, 'GBR': 2, u'GRC': 2, 'CUB': 9, 'AUT': 1}, 1908: {'FRA': 35, 'USA': 63, 'BEL': 31, u'ZAF': 2, 'HUN': 18, u'GRC': 3, 'SWE': 98, u'DEU': 22, u'DNK': 15, 'ITA': 7, u'NLD': 11, 'GBR': 347, 'AUT': 1, 'FIN': 29, 'NOR': 44, 'CAN': 51}, 1912: {'FRA': 25, 'USA': 101, 'BEL': 19, u'ZAF': 7, 'HUN': 30, u'GRC': 2, 'SWE': 173, u'DEU': 52, u'DNK': 84, 'ITA': 21, u'NLD': 22, 'GBR': 160, 'AUT': 14, 'FIN': 67, 'NOR': 76, 'CAN': 8}})\n"
     ]
    }
   ],
   "source": [
    "print new_medals_by_year_country"
   ]
  },
  {
   "cell_type": "code",
   "execution_count": 39,
   "metadata": {
    "collapsed": false
   },
   "outputs": [],
   "source": [
    "import json\n",
    "\n",
    "json.dump(new_medals_by_year_country,open(\"new_medals_by_country_year.json\",\"w\"))"
   ]
  },
  {
   "cell_type": "code",
   "execution_count": null,
   "metadata": {
    "collapsed": true
   },
   "outputs": [],
   "source": []
  }
 ],
 "metadata": {
  "anaconda-cloud": {},
  "kernelspec": {
   "display_name": "Python [default]",
   "language": "python",
   "name": "python2"
  },
  "language_info": {
   "codemirror_mode": {
    "name": "ipython",
    "version": 2
   },
   "file_extension": ".py",
   "mimetype": "text/x-python",
   "name": "python",
   "nbconvert_exporter": "python",
   "pygments_lexer": "ipython2",
   "version": "2.7.12"
  }
 },
 "nbformat": 4,
 "nbformat_minor": 1
}
